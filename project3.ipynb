{
  "cells": [
    {
      "cell_type": "markdown",
      "id": "95cb4939",
      "metadata": {
        "id": "95cb4939"
      },
      "source": [
        "# Домашняя работа №1\n",
        "\n",
        "## Доверительные интервалы"
      ]
    },
    {
      "cell_type": "markdown",
      "id": "82f85b3e",
      "metadata": {
        "id": "82f85b3e"
      },
      "source": [
        "### Задача 1 [3 балла].\n",
        "Евгений опросил жителей Москвы и Санкт-Петербурга,какой из трёх видов отдыха они предпочитают: прогулки, чтенье, сон глубокий. Из 300 опрошенных москвичей прогулки предпочитают 100 человек, чтенье — 50 и сон глубокий — 150 человек. Из 200 опрошенных санкт-петербуржцев прогулки предпочитают 80 человек, чтение — 70 и сон глубокий — 50 человек.\n",
        "\n",
        "а) Постройте 95% асимптотический доверительный интервал для доли москвичей,предпочитающих прогулки.\n",
        "\n",
        "б) Постройте 95% асимптотический доверительный интервал для разницы доли москвичей и доли петербуржцев, предпочитающих прогулки."
      ]
    },
    {
      "cell_type": "markdown",
      "source": [
        "а) оцениваем долю москвичей, которые любят прогулки   \n",
        "Объем выборки:\n",
        "$$ n = 300 $$\n",
        "Для оценки доли в ГС используем распределение Бернулли,  \n",
        "где p - вероятность, что москвич любит прогулки.  \n",
        "Доля любителей прогулок в Москве по выборке:  \n",
        "$$ \\widehat{p} = \\frac{100}{300} = \\frac{1}{3} $$\n",
        "Нелюбители прогулок в Москве:\n",
        "$$ \\widehat{q} = \\frac{200}{300} = \\frac{2}{3} $$\n",
        "\n",
        "Доверительный интервал по НР:  \n",
        "$$ (\\widehat{X}-\\frac{σ}{\\sqrt{n}}Z_{\\alpha}; \\widehat{X}+\\frac{σ}{\\sqrt{n}}Z_{\\alpha}) $$\n",
        "\n",
        "$$ \\widehat{X} = \\widehat{p} = \\frac{1}{3} $$\n",
        "$$ σ = \\sqrt{\\widehat{p}\\widehat{q}} = \\sqrt{\\frac{1}{3}\\frac{2}{3}} $$\n",
        "Квантиль нормального распределения уровня 95%:\n",
        "$$ Z_{α} = 1.96 $$\n"
      ],
      "metadata": {
        "id": "EuV0DNBBrGuX"
      },
      "id": "EuV0DNBBrGuX"
    },
    {
      "cell_type": "code",
      "source": [
        "n = 300\n",
        "p = 1/3\n",
        "q = 2/3\n",
        "X = p\n",
        "sigma = (p * q) ** 0.5\n",
        "Z = 1.96\n",
        "leftInterval = X - (sigma)/(n**0.5)*Z\n",
        "rightInterval = X + (sigma)/(n**0.5)*Z\n",
        "print(f\"({leftInterval:.3f}; {rightInterval:.3f})\")"
      ],
      "metadata": {
        "colab": {
          "base_uri": "https://localhost:8080/"
        },
        "id": "KheuzccXzMk3",
        "outputId": "7aaf79c8-bec7-497e-b904-5b56a9bd8f98"
      },
      "id": "KheuzccXzMk3",
      "execution_count": null,
      "outputs": [
        {
          "output_type": "stream",
          "name": "stdout",
          "text": [
            "(0.280; 0.387)\n"
          ]
        }
      ]
    },
    {
      "cell_type": "code",
      "source": [
        "from statsmodels.stats.proportion import proportion_confint\n",
        "\n",
        "n = 300\n",
        "p_count = 100\n",
        "\n",
        "leftInterval, rightInterval = proportion_confint(p_count, n, alpha=0.05, method='normal')\n",
        "print(f\"({leftInterval:.3f}; {rightInterval:.3f})\")\n"
      ],
      "metadata": {
        "colab": {
          "base_uri": "https://localhost:8080/"
        },
        "id": "zK8K_CoK3OD5",
        "outputId": "1084d4f5-36b2-489f-babc-f456149233bd"
      },
      "id": "zK8K_CoK3OD5",
      "execution_count": null,
      "outputs": [
        {
          "output_type": "stream",
          "name": "stdout",
          "text": [
            "(0.280; 0.387)\n"
          ]
        }
      ]
    },
    {
      "cell_type": "markdown",
      "source": [
        "б)\n",
        "$$ n_1 = 300 $$\n",
        "Доля любителей прогулок в Москве по выборке:  \n",
        "$$ \\widehat{p_1} = \\frac{100}{300} = \\frac{1}{3} $$\n",
        "Нелюбители прогулок в Москве:\n",
        "$$ \\widehat{q_1} = \\frac{200}{300} = \\frac{2}{3} $$\n",
        "\n",
        "$$ n_2 = 300 $$\n",
        "Доля любителей прогулок в Питере по выборке:  \n",
        "$$ \\widehat{p_2} = \\frac{80}{200} $$\n",
        "Нелюбители прогулок в Питере:\n",
        "$$ \\widehat{q_2} = \\frac{120}{200} $$\n",
        "\n",
        "\n",
        "Доверительный интервал по НР:  \n",
        "$$ (\\widehat{X}-\\frac{σ}{\\sqrt{n}}Z_{\\alpha}; \\widehat{X}+\\frac{𝞭}{\\sqrt{n}}Z_{\\alpha}) $$\n",
        "\n",
        "$$ \\widehat{X} = \\widehat{p_1} - \\widehat{p_2} = \\frac{1}{3} -  \\frac{80}{200} $$\n",
        "В случае разности долей дисперсия будет равна разности дисперсий:\n",
        "$$ σ = \\sqrt{\\frac{ \\widehat{p_1} *  \\widehat{q_1}  }{n_1} + \\frac{ \\widehat{p_2} *  \\widehat{q_2} }{n_2}} $$\n",
        "\n",
        "Квантиль нормального распределения уровня 95%:\n",
        "$$ Z_{α} = 1.96 $$\n"
      ],
      "metadata": {
        "id": "zeWuCdD5-W7_"
      },
      "id": "zeWuCdD5-W7_"
    },
    {
      "cell_type": "code",
      "source": [
        "n1 = 300\n",
        "p1 = 1/3\n",
        "q1 = 2/3\n",
        "n2 = 200\n",
        "p2 = 80/200\n",
        "q2 = 120/200\n",
        "sigma = ((p1 * q1)/n1 + (p2 * q2)/n2)**0.5\n",
        "Z = 1.96\n",
        "X = p1 - p2\n",
        "leftInterval = X - (sigma)*Z\n",
        "rightInterval = X + (sigma)*Z\n",
        "print(f\"({leftInterval:.3f}; {rightInterval:.3f})\")"
      ],
      "metadata": {
        "colab": {
          "base_uri": "https://localhost:8080/"
        },
        "id": "UdctYFCfkGSQ",
        "outputId": "88255c9f-faa8-406d-f2c7-01bed0fd45ff"
      },
      "id": "UdctYFCfkGSQ",
      "execution_count": null,
      "outputs": [
        {
          "output_type": "stream",
          "name": "stdout",
          "text": [
            "(-0.153; 0.020)\n"
          ]
        }
      ]
    },
    {
      "cell_type": "code",
      "source": [
        "from statsmodels.stats.proportion import confint_proportions_2indep\n",
        "nMoscow = 300\n",
        "pCountMoscow = 100\n",
        "nPeter = 200\n",
        "pCountPeter = 80\n",
        "\n",
        "leftInterval, rightInterval  = confint_proportions_2indep(pCountMoscow, nMoscow, pCountPeter, nPeter, method='wald')\n",
        "print(f\"({leftInterval:.3f}; {rightInterval:.3f})\")\n"
      ],
      "metadata": {
        "colab": {
          "base_uri": "https://localhost:8080/"
        },
        "id": "Jp-FOpWKSAlT",
        "outputId": "80cd1a64-3a22-4948-9721-41be2192157f"
      },
      "id": "Jp-FOpWKSAlT",
      "execution_count": null,
      "outputs": [
        {
          "output_type": "stream",
          "name": "stdout",
          "text": [
            "(-0.153; 0.020)\n"
          ]
        }
      ]
    },
    {
      "cell_type": "markdown",
      "id": "bb1b3e17",
      "metadata": {
        "id": "bb1b3e17"
      },
      "source": [
        "### Задача 2 [1 балл].\n",
        "Пробег (в 1000км) автомобиля \"Лада Калина\" до капитального ремонта двигателя является нормальной случайной величиной с неизвестным математическим ожиданием μ и известной дисперсией 49. По выборке из 20 автомобилей доверительный интервал для математического ожидания пробега с уровнем доверия 0.95."
      ]
    },
    {
      "cell_type": "markdown",
      "source": [
        "Дадим точечную оценку мат ожидания через среднее\n",
        "$$ \\widehat{μ} = \\frac{1}{n}\\sum{x_i} $$\n",
        "Доверительный интервал по НР:  \n",
        "$$ ( \\widehat{μ}-\\frac{σ}{\\sqrt{n}}Z_{\\alpha};  \\widehat{μ}+\\frac{σ}{\\sqrt{n}}Z_{\\alpha}) $$\n",
        "\n",
        "$$ σ^2 = 49 $$\n",
        "$$ σ = 7 $$\n",
        "\n",
        "Квантиль нормального распределения уровня 95%:\n",
        "$$ Z_{α} =  1.96 $$\n"
      ],
      "metadata": {
        "id": "viBgc7e1Byl-"
      },
      "id": "viBgc7e1Byl-"
    },
    {
      "cell_type": "code",
      "execution_count": null,
      "id": "e157152f",
      "metadata": {
        "colab": {
          "base_uri": "https://localhost:8080/"
        },
        "id": "e157152f",
        "outputId": "7a793774-02e6-41b6-f550-ef77d5f2a567"
      },
      "outputs": [
        {
          "output_type": "stream",
          "name": "stdout",
          "text": [
            "(97.026; 103.161)\n"
          ]
        }
      ],
      "source": [
        "X = [91.17, 107.79, 104.02, 104.99,\n",
        "       100.28,  88.68,  97.14, 102.45,\n",
        "       102.99, 107.22,  95.29, 105.07,\n",
        "        86.19, 109.94, 101.20,  98.14,\n",
        "        98.86, 107.44,  91.76, 101.25]\n",
        "sr = sum(X) / len(X)\n",
        "n = 20\n",
        "sigma = 7\n",
        "Z = 1.96\n",
        "leftInterval = sr - (sigma)/(n**0.5)*Z\n",
        "rightInterval = sr + (sigma)/(n**0.5)*Z\n",
        "print(f\"({leftInterval:.3f}; {rightInterval:.3f})\")"
      ]
    },
    {
      "cell_type": "code",
      "source": [
        "import scipy.stats as stats\n",
        "X = [91.17, 107.79, 104.02, 104.99,\n",
        "       100.28,  88.68,  97.14, 102.45,\n",
        "       102.99, 107.22,  95.29, 105.07,\n",
        "        86.19, 109.94, 101.20,  98.14,\n",
        "        98.86, 107.44,  91.76, 101.25]\n",
        "sr = sum(X) / len(X)\n",
        "conf_level = 0.95\n",
        "sigma = 7\n",
        "n=20\n",
        "Z = stats.norm.ppf((1 + conf_level) / 2)\n",
        "\n",
        "ME = Z * (sigma / n ** 0.5)\n",
        "leftInterval, rightInterval = (sr - ME, sr + ME)\n",
        "print(f\"({leftInterval:.3f}; {rightInterval:.3f})\")"
      ],
      "metadata": {
        "colab": {
          "base_uri": "https://localhost:8080/"
        },
        "id": "Pda7YCtIL-kG",
        "outputId": "cd1dd2ef-f0cb-4cc6-add6-529070a4f931"
      },
      "id": "Pda7YCtIL-kG",
      "execution_count": null,
      "outputs": [
        {
          "output_type": "stream",
          "name": "stdout",
          "text": [
            "(97.026; 103.161)\n"
          ]
        }
      ]
    },
    {
      "cell_type": "markdown",
      "id": "ec4af923",
      "metadata": {
        "id": "ec4af923"
      },
      "source": [
        "### Задача 3 [2 балла].\n",
        "Поручик Ржевский играет с Наташей Ростовой в дуэльную карточную игру. Какое минимальное количество партий ему нужно сыграть, чтобы с вероятностью не менее 80% быть уверенным, что доля выигранных партий в выборке отличается от его истинной вероятности выиграть не более, чем на 0.01?"
      ]
    },
    {
      "cell_type": "markdown",
      "source": [
        "Получается, что нам надо решить уравнение, где.  \n",
        "$$ \\frac{σ}{\\sqrt{n}}Z_{\\alpha} \\leq 0.01 $$\n",
        "Так как мы рассматриваем карточную игру, то можем считать что победу описывает Бернулли, где p - вероятность победы Поручика.  \n",
        "Допустим, что p = 0.5.\n",
        "$$ σ = \\sqrt{p*(1-p)} = \\sqrt{0.5*(1-0.5)} = 0.5 $$\n",
        "$$ Z=1.281 $$\n",
        "Решаем уравнение:  \n",
        "$$ n = {(\\frac{σ * Z_{\\alpha}}{0.01} = \\frac{0.5 * 1.281}{0.01})}^2 = 4102 $$\n",
        "\n",
        "\n"
      ],
      "metadata": {
        "id": "kbBITCvtNUnl"
      },
      "id": "kbBITCvtNUnl"
    },
    {
      "cell_type": "markdown",
      "id": "6c047fe8",
      "metadata": {
        "id": "6c047fe8"
      },
      "source": [
        "### Задача 4 [2 балла].\n",
        "Преподаватель по методам анализа данных расстроился из-за посещаемости его предмета и начал пить пиво по вечерам (и продолжается это уже целый год). Количество выпитых им бутылок имеет распределение Пуассона с параметром $\\lambda$.\n",
        "Постройте доверительный интервал для вероятности, что завтра вечером он будет трезв."
      ]
    },
    {
      "cell_type": "markdown",
      "source": [
        "$$ P(k = 0) = e^{-λ} $$\n",
        "\n",
        "$$ \\widehat{λ} = 1.032 $$\n",
        "\n",
        "$$ g(x) = P(k = 0) = e^{-λ} $$\n",
        "\n",
        "$$ g(x) \\sim N(μ, \\frac{\\lambda}{n} g'(μ)^2 ) $$\n",
        "$$ g(x) \\sim N(e^{-\\widehat{λ}}, \\frac{\\widehat{λ}}{n} g'(\\widehat{λ})^2 ) $$\n",
        "$$ g'(x) = -e^{-x} $$\n",
        "\n",
        "$$ ( e^{-\\widehat{λ}}-\\frac{\\sqrt{\\frac{\\widehat{λ}}{n} g'(\\widehat{λ})^2}}{\\sqrt{n}}Z_{\\alpha};  \\widehat{μ}+\\frac{\\sqrt{\\frac{\\widehat{λ}}{n} g'(\\widehat{λ})^2}}{\\sqrt{n}}Z_{\\alpha}) $$\n",
        "\n"
      ],
      "metadata": {
        "id": "jEma7TQxYdd1"
      },
      "id": "jEma7TQxYdd1"
    },
    {
      "cell_type": "code",
      "execution_count": null,
      "id": "a6238a93",
      "metadata": {
        "colab": {
          "base_uri": "https://localhost:8080/"
        },
        "id": "a6238a93",
        "outputId": "629c9707-698f-45a3-acaf-26cb397ff987"
      },
      "outputs": [
        {
          "output_type": "stream",
          "name": "stdout",
          "text": [
            "(0.354; 0.358)\n"
          ]
        }
      ],
      "source": [
        "import math\n",
        "\n",
        "def g_shtrih(x):\n",
        "  return -math.exp(-x)\n",
        "\n",
        "X = [1, 1, 0, 0, 0, 0, 1, 0, 1, 2, 2, 0, 1, 0, 0, 0, 2, 1, 1, 1, 0, 5,\n",
        "       1, 1, 1, 1, 1, 2, 0, 1, 0, 2, 2, 1, 0, 2, 2, 1, 1, 0, 2, 0, 1, 0,\n",
        "       1, 3, 2, 0, 0, 2, 2, 2, 0, 0, 0, 1, 0, 0, 1, 2, 0, 2, 2, 0, 1, 0,\n",
        "       1, 1, 0, 0, 1, 3, 0, 1, 0, 0, 1, 0, 1, 0, 2, 1, 0, 1, 0, 0, 0, 0,\n",
        "       1, 3, 1, 1, 1, 2, 0, 3, 1, 1, 1, 1, 1, 0, 0, 1, 0, 2, 1, 0, 1, 1,\n",
        "       1, 0, 0, 0, 0, 1, 2, 1, 0, 2, 2, 0, 0, 2, 0, 0, 1, 2, 4, 1, 0, 1,\n",
        "       2, 1, 2, 1, 1, 1, 1, 0, 2, 2, 1, 0, 1, 0, 0, 2, 0, 0, 0, 3, 2, 0,\n",
        "       2, 0, 2, 2, 1, 0, 0, 1, 1, 3, 2, 1, 1, 1, 1, 2, 1, 0, 0, 0, 1, 1,\n",
        "       2, 0, 2, 4, 2, 2, 2, 1, 2, 1, 0, 0, 0, 0, 0, 1, 2, 0, 2, 2, 2, 0,\n",
        "       1, 1, 0, 2, 1, 1, 1, 0, 0, 1, 0, 2, 1, 4, 2, 0, 1, 1, 1, 1, 0, 1,\n",
        "       0, 0, 0, 0, 1, 1, 1, 2, 2, 1, 2, 2, 1, 1, 0, 2, 4, 1, 0, 0, 0, 1,\n",
        "       2, 0, 2, 2, 1, 0, 2, 1, 1, 0, 3, 0, 3, 0, 0, 0, 1, 0, 2, 0, 0, 2,\n",
        "       1, 2, 1, 1, 0, 0, 2, 1, 1, 0, 2, 2, 3, 3, 0, 1, 2, 0, 2, 1, 2, 2,\n",
        "       0, 0, 1, 2, 1, 2, 1, 2, 2, 0, 1, 0, 2, 1, 1, 1, 3, 1, 1, 1, 2, 1,\n",
        "       1, 1, 0, 2, 0, 1, 2, 0, 3, 1, 1, 0, 0, 1, 1, 0, 0, 1, 1, 2, 3, 2,\n",
        "       3, 0, 1, 0, 1, 3, 1, 3, 1, 2, 1, 0, 0, 1, 0, 1, 0, 1, 2, 3, 1, 0,\n",
        "       0, 1, 0, 2, 2, 2, 2, 2, 0, 1, 2, 0, 3, 2]\n",
        "l = sum(X)/len(X)\n",
        "n = len(X)\n",
        "Z = 1.959\n",
        "leftInterval = math.exp(-l) - (( l/n * g_shtrih(l) ** 2) ** 0.5)/(n ** 0.5) * Z\n",
        "rightInterval = math.exp(-l) + (( l/n * g_shtrih(l) ** 2) ** 0.5)/(n ** 0.5) * Z\n",
        "print(f\"({leftInterval:.3f}; {rightInterval:.3f})\")\n",
        "\n"
      ]
    },
    {
      "cell_type": "markdown",
      "id": "6341bf40",
      "metadata": {
        "id": "6341bf40"
      },
      "source": [
        "### Задача 5 [2 балла].\n",
        "Преподаватель истории Владимир любит перед серьезным разговором давать краткую историческую справку, буквально на 15 минут.\n",
        "Ниже представлена длительность этих справок за последние 30 его бесед (в секундах).\n",
        "\n",
        "Проверьте гипотезу о том, что средняя длительность исторической справки действительно составляет 15 минут.\n",
        "\n",
        "Подсказка: если вы хотите пользоваться нормальностью данных, хорошо бы для начала это проверить."
      ]
    },
    {
      "cell_type": "markdown",
      "source": [
        "Длительность справки в 15 минут —  900 секунд.\n",
        "\n",
        "1. Для проверки нормальности визуально оценим распределение с помощью гистограммы и используем тест Шапиро-Уилка:\n",
        "Нулевая гипотеза $H_{0}$ - данные распределены нормально, а альтернативная гипотеза $H_{1}$ - данные не распределены нормально.\n",
        "\n",
        "2. При нормальности данных используем t-тест для проверки гипотезы о среднем значении: Нулевая гипотеза $H_{0}$ будет заключаться в том, что среднее значение длительности справки равно 900 секундам, а альтернативная гипотеза $H_{1}$ в том, что оно отличается от 900 секунд."
      ],
      "metadata": {
        "id": "FB2jjymYCBqF"
      },
      "id": "FB2jjymYCBqF"
    },
    {
      "cell_type": "code",
      "execution_count": null,
      "id": "51b77b8e",
      "metadata": {
        "colab": {
          "base_uri": "https://localhost:8080/",
          "height": 489
        },
        "id": "51b77b8e",
        "outputId": "4afec5dc-c7af-4504-e478-fa6067e95eae"
      },
      "outputs": [
        {
          "output_type": "display_data",
          "data": {
            "text/plain": [
              "<Figure size 640x480 with 1 Axes>"
            ],
            "image/png": "[encoded data removed]"
          },
          "metadata": {}
        },
        {
          "output_type": "stream",
          "name": "stdout",
          "text": [
            "Статистика теста: 0.9707249011060115, p-значение: 0.5591963710140144\n"
          ]
        }
      ],
      "source": [
        "import numpy as np\n",
        "import scipy.stats as stats\n",
        "import matplotlib.pyplot as plt\n",
        "\n",
        "X = [977.91320264, 1179.5277282 ,  876.85274432,  991.40179151,\n",
        "        942.22565119,  957.14226912,  956.80265165,  936.89811626,\n",
        "        753.31884678,  944.80204994, 1026.71561802, 1091.17579016,\n",
        "       1057.40204684,  989.01702844,  835.3574104 , 1017.38527404,\n",
        "       1017.65584934,  940.82703311, 1101.82864762,  890.69354625,\n",
        "       1110.7981121 ,  675.59345406,  972.46585865,  973.03845909,\n",
        "       1014.36755115,  782.39688129,  845.27791987, 1086.78543049,\n",
        "        898.80706353, 1014.61948596]\n",
        "X = np.array(X)\n",
        "plt.hist(X, bins=10, edgecolor='black', alpha=0.7, density=True)\n",
        "mu, std = np.mean(X), np.std(X, ddof=1)\n",
        "xmin, xmax = plt.xlim()\n",
        "x = np.linspace(xmin, xmax, 100)\n",
        "p = stats.norm.pdf(x, mu, std)\n",
        "plt.plot(x, p, 'r', linewidth=2)\n",
        "plt.title(\"Гистограмма длительности исторических справок\")\n",
        "plt.xlabel(\"Время (секунды)\")\n",
        "plt.ylabel(\"Плотность вероятности\")\n",
        "plt.show()\n",
        "\n",
        "stat, p_value = shapiro(X)\n",
        "print(f\"Статистика теста: {stat}, p-значение: {p_value}\")"
      ]
    },
    {
      "cell_type": "markdown",
      "source": [
        "p-значение > 0.05, значит нулевая гипотеза не отвергается, и данные можно считать нормально распределенными."
      ],
      "metadata": {
        "id": "zj5IjSWmGERB"
      },
      "id": "zj5IjSWmGERB"
    },
    {
      "cell_type": "code",
      "source": [
        "t_stat, p_value = ttest_1samp(X, 900)\n",
        "print(f\"Статистика теста: {t_stat}, p-значение: {p_value}\")"
      ],
      "metadata": {
        "colab": {
          "base_uri": "https://localhost:8080/"
        },
        "id": "i2uaJZ_3GVDg",
        "outputId": "860def87-6cb0-4a80-f459-643f49be75e7"
      },
      "id": "i2uaJZ_3GVDg",
      "execution_count": null,
      "outputs": [
        {
          "output_type": "stream",
          "name": "stdout",
          "text": [
            "Статистика теста: 3.0723184100292533, p-значение: 0.004587495156406669\n"
          ]
        }
      ]
    },
    {
      "cell_type": "markdown",
      "source": [
        "Так как p-значение ≤ 0.05, то нулевая гипотеза отвергается. Это означает, что средняя длительность справки отличается от 15 минут."
      ],
      "metadata": {
        "id": "YAuMzcN2GYWc"
      },
      "id": "YAuMzcN2GYWc"
    }
  ],
  "metadata": {
    "kernelspec": {
      "display_name": "Python 3 (ipykernel)",
      "language": "python",
      "name": "python3"
    },
    "language_info": {
      "codemirror_mode": {
        "name": "ipython",
        "version": 3
      },
      "file_extension": ".py",
      "mimetype": "text/x-python",
      "name": "python",
      "nbconvert_exporter": "python",
      "pygments_lexer": "ipython3",
      "version": "3.13.0"
    },
    "colab": {
      "provenance": []
    }
  },
  "nbformat": 4,
  "nbformat_minor": 5
}